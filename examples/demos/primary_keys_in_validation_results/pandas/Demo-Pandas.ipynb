{
 "cells": [
  {
   "cell_type": "code",
   "execution_count": 1,
   "id": "1e988c39",
   "metadata": {},
   "outputs": [],
   "source": [
    "import great_expectations as gx"
   ]
  },
  {
   "cell_type": "code",
   "execution_count": 2,
   "id": "72f26a87",
   "metadata": {},
   "outputs": [],
   "source": [
    "from great_expectations.checkpoint.types.checkpoint_result import CheckpointResult\n",
    "from great_expectations.core.batch import BatchRequest"
   ]
  },
  {
   "cell_type": "code",
   "execution_count": 3,
   "id": "7b0efad8",
   "metadata": {},
   "outputs": [],
   "source": [
    "context = gx.get_context()"
   ]
  },
  {
   "cell_type": "markdown",
   "id": "f9d4bfbf",
   "metadata": {},
   "source": [
    "`batch_request` for retrieving `visits.csv` table"
   ]
  },
  {
   "cell_type": "code",
   "execution_count": 9,
   "id": "54940668",
   "metadata": {},
   "outputs": [],
   "source": [
    "batch_request: BatchRequest = BatchRequest(\n",
    "    **{\n",
    "        \"datasource_name\": \"my_datasource\",\n",
    "        \"data_connector_name\": \"my_pandas_data_connector\",\n",
    "        \"data_asset_name\": \"visits.csv\",\n",
    "    }\n",
    ")\n"
   ]
  },
  {
   "cell_type": "markdown",
   "id": "56b39945",
   "metadata": {},
   "source": [
    "`checkpoint` configuration "
   ]
  },
  {
   "cell_type": "code",
   "execution_count": 10,
   "id": "423abecb",
   "metadata": {},
   "outputs": [
    {
     "data": {
      "text/plain": [
       "{\n",
       "  \"action_list\": [\n",
       "    {\n",
       "      \"name\": \"store_validation_result\",\n",
       "      \"action\": {\n",
       "        \"class_name\": \"StoreValidationResultAction\"\n",
       "      }\n",
       "    },\n",
       "    {\n",
       "      \"name\": \"store_evaluation_params\",\n",
       "      \"action\": {\n",
       "        \"class_name\": \"StoreEvaluationParametersAction\"\n",
       "      }\n",
       "    },\n",
       "    {\n",
       "      \"name\": \"update_data_docs\",\n",
       "      \"action\": {\n",
       "        \"class_name\": \"UpdateDataDocsAction\"\n",
       "      }\n",
       "    }\n",
       "  ],\n",
       "  \"batch_request\": {},\n",
       "  \"class_name\": \"Checkpoint\",\n",
       "  \"config_version\": 1,\n",
       "  \"evaluation_parameters\": {},\n",
       "  \"expectation_suite_name\": \"visitors_exp\",\n",
       "  \"module_name\": \"great_expectations.checkpoint\",\n",
       "  \"name\": \"my_checkpoint\",\n",
       "  \"profilers\": [],\n",
       "  \"run_name_template\": \"%Y-%M-foo-bar-template\",\n",
       "  \"runtime_configuration\": {},\n",
       "  \"validations\": [\n",
       "    {\n",
       "      \"batch_request\": {\n",
       "        \"datasource_name\": \"my_datasource\",\n",
       "        \"data_connector_name\": \"my_pandas_data_connector\",\n",
       "        \"data_asset_name\": \"visits.csv\"\n",
       "      }\n",
       "    }\n",
       "  ]\n",
       "}"
      ]
     },
     "execution_count": 10,
     "metadata": {},
     "output_type": "execute_result"
    }
   ],
   "source": [
    "checkpoint_config: dict = {\n",
    "    \"class_name\": \"Checkpoint\",\n",
    "    \"name\": \"my_checkpoint\",\n",
    "    \"config_version\": 1,\n",
    "    \"module_name\": \"great_expectations.checkpoint\",\n",
    "    \"run_name_template\": \"%Y-%M-foo-bar-template\",\n",
    "    \"expectation_suite_name\": \"visitors_exp\",\n",
    "    \"action_list\": [\n",
    "        {\n",
    "            \"name\": \"store_validation_result\",\n",
    "            \"action\": {\n",
    "                \"class_name\": \"StoreValidationResultAction\",\n",
    "            },\n",
    "        },\n",
    "        {\n",
    "            \"name\": \"store_evaluation_params\",\n",
    "            \"action\": {\n",
    "                \"class_name\": \"StoreEvaluationParametersAction\",\n",
    "            },\n",
    "        },\n",
    "        {\n",
    "            \"name\": \"update_data_docs\",\n",
    "            \"action\": {\n",
    "                \"class_name\": \"UpdateDataDocsAction\",\n",
    "            },\n",
    "       },\n",
    "    ],\n",
    "    \"validations\": [\n",
    "        {\n",
    "            \"batch_request\": batch_request,\n",
    "        }\n",
    "    ],\n",
    "    \"runtime_configuration\": {}\n",
    "}\n",
    "context.add_checkpoint(**checkpoint_config)"
   ]
  },
  {
   "cell_type": "markdown",
   "id": "99f5e58d",
   "metadata": {},
   "source": [
    "# Example 1: \n",
    "* `unexpected_index_column_names` not configured."
   ]
  },
  {
   "cell_type": "code",
   "execution_count": 11,
   "id": "174491be",
   "metadata": {},
   "outputs": [],
   "source": [
    "result_format: dict = {\n",
    "    \"result_format\": \"COMPLETE\",\n",
    "    \"unexpected_index_column_names\": [\"event_id\"]\n",
    "}"
   ]
  },
  {
   "cell_type": "code",
   "execution_count": 12,
   "id": "28b3140f",
   "metadata": {
    "scrolled": true
   },
   "outputs": [
    {
     "data": {
      "application/vnd.jupyter.widget-view+json": {
       "model_id": "d2a99d84f77a4f3fbbc14803fdc8d3b4",
       "version_major": 2,
       "version_minor": 0
      },
      "text/plain": [
       "Calculating Metrics:   0%|          | 0/10 [00:00<?, ?it/s]"
      ]
     },
     "metadata": {},
     "output_type": "display_data"
    }
   ],
   "source": [
    "results = context.run_checkpoint(checkpoint_name=\"my_checkpoint\", result_format=result_format)"
   ]
  },
  {
   "cell_type": "code",
   "execution_count": 13,
   "id": "5deb7e49",
   "metadata": {},
   "outputs": [],
   "source": [
    "evrs = results.list_validation_results()"
   ]
  },
  {
   "cell_type": "code",
   "execution_count": 14,
   "id": "069ae58d",
   "metadata": {},
   "outputs": [
    {
     "data": {
      "text/plain": [
       "{'element_count': 6,\n",
       " 'unexpected_count': 3,\n",
       " 'unexpected_percent': 50.0,\n",
       " 'partial_unexpected_list': ['user_signup', 'purchase', 'download'],\n",
       " 'unexpected_index_column_names': ['event_id'],\n",
       " 'missing_count': 0,\n",
       " 'missing_percent': 0.0,\n",
       " 'unexpected_percent_total': 50.0,\n",
       " 'unexpected_percent_nonmissing': 50.0,\n",
       " 'partial_unexpected_index_list': [{'event_type': 'user_signup',\n",
       "   'event_id': 3},\n",
       "  {'event_type': 'purchase', 'event_id': 4},\n",
       "  {'event_type': 'download', 'event_id': 5}],\n",
       " 'partial_unexpected_counts': [{'value': 'download', 'count': 1},\n",
       "  {'value': 'purchase', 'count': 1},\n",
       "  {'value': 'user_signup', 'count': 1}],\n",
       " 'unexpected_list': ['user_signup', 'purchase', 'download'],\n",
       " 'unexpected_index_list': [{'event_type': 'user_signup', 'event_id': 3},\n",
       "  {'event_type': 'purchase', 'event_id': 4},\n",
       "  {'event_type': 'download', 'event_id': 5}],\n",
       " 'unexpected_index_query': [3, 4, 5]}"
      ]
     },
     "execution_count": 14,
     "metadata": {},
     "output_type": "execute_result"
    }
   ],
   "source": [
    "evrs[0][\"results\"][0][\"result\"]"
   ]
  },
  {
   "cell_type": "code",
   "execution_count": null,
   "id": "de54c37c",
   "metadata": {},
   "outputs": [],
   "source": [
    "context.open_data_docs()"
   ]
  },
  {
   "cell_type": "markdown",
   "id": "26ed0b01",
   "metadata": {},
   "source": [
    "# Example 2:\n",
    "* Single `unexpected_index_column_names` configured."
   ]
  },
  {
   "cell_type": "code",
   "execution_count": 15,
   "id": "0b165b44",
   "metadata": {},
   "outputs": [],
   "source": [
    "result_format: dict = {\n",
    "    \"result_format\": \"COMPLETE\",\n",
    "    \"unexpected_index_column_names\": [\"event_id\"],\n",
    "    # \"return_unexpected_index_query\" : False  # unexpected_index_query is returned by default. Uncommenting this line will suppress the output. \n",
    "}\n"
   ]
  },
  {
   "cell_type": "code",
   "execution_count": 16,
   "id": "a156aa51",
   "metadata": {},
   "outputs": [
    {
     "data": {
      "application/vnd.jupyter.widget-view+json": {
       "model_id": "bdb69c16f0524cd1b825244d4a811100",
       "version_major": 2,
       "version_minor": 0
      },
      "text/plain": [
       "Calculating Metrics:   0%|          | 0/10 [00:00<?, ?it/s]"
      ]
     },
     "metadata": {},
     "output_type": "display_data"
    }
   ],
   "source": [
    "results: CheckpointResult = context.run_checkpoint(\n",
    "    checkpoint_name=\"my_checkpoint\", result_format=result_format\n",
    ")"
   ]
  },
  {
   "cell_type": "code",
   "execution_count": 17,
   "id": "792fc1b9",
   "metadata": {},
   "outputs": [],
   "source": [
    "evrs = results.list_validation_results()"
   ]
  },
  {
   "cell_type": "code",
   "execution_count": 18,
   "id": "7b08cbad",
   "metadata": {},
   "outputs": [
    {
     "data": {
      "text/plain": [
       "{'element_count': 6,\n",
       " 'unexpected_count': 3,\n",
       " 'unexpected_percent': 50.0,\n",
       " 'partial_unexpected_list': ['user_signup', 'purchase', 'download'],\n",
       " 'unexpected_index_column_names': ['event_id'],\n",
       " 'missing_count': 0,\n",
       " 'missing_percent': 0.0,\n",
       " 'unexpected_percent_total': 50.0,\n",
       " 'unexpected_percent_nonmissing': 50.0,\n",
       " 'partial_unexpected_index_list': [{'event_type': 'user_signup',\n",
       "   'event_id': 3},\n",
       "  {'event_type': 'purchase', 'event_id': 4},\n",
       "  {'event_type': 'download', 'event_id': 5}],\n",
       " 'partial_unexpected_counts': [{'value': 'download', 'count': 1},\n",
       "  {'value': 'purchase', 'count': 1},\n",
       "  {'value': 'user_signup', 'count': 1}],\n",
       " 'unexpected_list': ['user_signup', 'purchase', 'download'],\n",
       " 'unexpected_index_list': [{'event_type': 'user_signup', 'event_id': 3},\n",
       "  {'event_type': 'purchase', 'event_id': 4},\n",
       "  {'event_type': 'download', 'event_id': 5}],\n",
       " 'unexpected_index_query': [3, 4, 5]}"
      ]
     },
     "execution_count": 18,
     "metadata": {},
     "output_type": "execute_result"
    }
   ],
   "source": [
    "evrs[0][\"results\"][0][\"result\"]"
   ]
  },
  {
   "cell_type": "code",
   "execution_count": 19,
   "id": "1428654a",
   "metadata": {},
   "outputs": [],
   "source": [
    "context.open_data_docs()"
   ]
  },
  {
   "cell_type": "markdown",
   "id": "b1b80f65",
   "metadata": {},
   "source": [
    "# Example 3:\n",
    "* Multiple `unexpected_index_column_names` configured."
   ]
  },
  {
   "cell_type": "code",
   "execution_count": 20,
   "id": "9092944e",
   "metadata": {},
   "outputs": [],
   "source": [
    "result_format: dict = {\n",
    "    \"result_format\": \"COMPLETE\",\n",
    "    \"unexpected_index_column_names\": [\"event_id\", \"visit_id\"],\n",
    "    # \"return_unexpected_index_query\" : False  # unexpected_index_query is returned by default. Uncommenting this line will suppress the output. \n",
    "}\n"
   ]
  },
  {
   "cell_type": "code",
   "execution_count": null,
   "id": "cf1be4a3",
   "metadata": {},
   "outputs": [],
   "source": [
    "evrs = results.list_validation_results()"
   ]
  },
  {
   "cell_type": "code",
   "execution_count": null,
   "id": "f2d84ac3",
   "metadata": {},
   "outputs": [],
   "source": [
    "evrs[0][\"results\"][0][\"result\"]"
   ]
  },
  {
   "cell_type": "code",
   "execution_count": null,
   "id": "62463413",
   "metadata": {},
   "outputs": [],
   "source": [
    "context.open_data_docs()"
   ]
  }
 ],
 "metadata": {
  "kernelspec": {
   "display_name": "Python 3 (ipykernel)",
   "language": "python",
   "name": "python3"
  },
  "language_info": {
   "codemirror_mode": {
    "name": "ipython",
    "version": 3
   },
   "file_extension": ".py",
   "mimetype": "text/x-python",
   "name": "python",
   "nbconvert_exporter": "python",
   "pygments_lexer": "ipython3",
   "version": "3.9.13"
  }
 },
 "nbformat": 4,
 "nbformat_minor": 5
}
